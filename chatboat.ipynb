{
  "cells": [
    {
      "cell_type": "markdown",
      "metadata": {
        "id": "view-in-github",
        "colab_type": "text"
      },
      "source": [
        "<a href=\"https://colab.research.google.com/github/Anshikapandey9/sales-analysis-using-Python/blob/main/chatboat.ipynb\" target=\"_parent\"><img src=\"https://colab.research.google.com/assets/colab-badge.svg\" alt=\"Open In Colab\"/></a>"
      ]
    },
    {
      "cell_type": "code",
      "source": [
        "import random\n",
        "\n",
        "# Define some sample responses\n",
        "responses = {\n",
        "    \"hello\": [\"Hi there!\", \"Hello!\", \"Hey! How can I help you?\"],\n",
        "    \"how are you\": [\"I'm just a bot, but I'm doing great!\", \"Feeling fantastic!\", \"All systems operational!\"],\n",
        "    \"bye\": [\"Goodbye!\", \"See you later!\", \"Have a nice day!\"],\n",
        "    \"default\": [\"I'm not sure I understand.\", \"Can you say that differently?\", \"I'm still learning!\"]\n",
        "}\n",
        "\n",
        "def generate_response(user_input):\n",
        "    user_input = user_input.lower()\n",
        "    for key in responses:\n",
        "        if key in user_input:\n",
        "            return random.choice(responses[key])\n",
        "    return random.choice(responses[\"default\"])\n",
        "\n",
        "def chat():\n",
        "    print(\"Chatbot: Hello! Type 'exit' to end the chat.\")\n",
        "    while True:\n",
        "        user_input = input(\"You: \")\n",
        "        if user_input.lower() == \"exit\":\n",
        "            print(\"Chatbot: Goodbye!\")\n",
        "            break\n",
        "        response = generate_response(user_input)\n",
        "        print(f\"Chatbot: {response}\")\n",
        "\n",
        "if __name__ == \"__main__\":\n",
        "    chat()\n"
      ],
      "metadata": {
        "id": "sHDKwMn-_FmS",
        "outputId": "0032cb9d-71d6-4741-e750-aa5203bcaf48",
        "colab": {
          "base_uri": "https://localhost:8080/"
        }
      },
      "execution_count": null,
      "outputs": [
        {
          "output_type": "stream",
          "name": "stdout",
          "text": [
            "Chatbot: Hello! Type 'exit' to end the chat.\n",
            "You: hii\n",
            "Chatbot: Can you say that differently?\n",
            "You: hello\n",
            "Chatbot: Hey! How can I help you?\n",
            "You: i love you\n",
            "Chatbot: I'm not sure I understand.\n"
          ]
        }
      ]
    }
  ],
  "metadata": {
    "colab": {
      "provenance": [],
      "include_colab_link": true
    },
    "kernelspec": {
      "display_name": "Python 3",
      "name": "python3"
    }
  },
  "nbformat": 4,
  "nbformat_minor": 0
}